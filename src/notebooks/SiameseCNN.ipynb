{
 "cells": [
  {
   "cell_type": "code",
   "execution_count": 1,
   "metadata": {
    "execution": {
     "iopub.execute_input": "2024-05-04T17:38:11.491791Z",
     "iopub.status.busy": "2024-05-04T17:38:11.491152Z",
     "iopub.status.idle": "2024-05-04T17:38:25.371974Z",
     "shell.execute_reply": "2024-05-04T17:38:25.371003Z",
     "shell.execute_reply.started": "2024-05-04T17:38:11.491759Z"
    }
   },
   "outputs": [
    {
     "name": "stdout",
     "output_type": "stream",
     "text": [
      "Collecting torchsummary\n",
      "  Downloading torchsummary-1.5.1-py3-none-any.whl.metadata (296 bytes)\n",
      "Downloading torchsummary-1.5.1-py3-none-any.whl (2.8 kB)\n",
      "Installing collected packages: torchsummary\n",
      "Successfully installed torchsummary-1.5.1\n"
     ]
    }
   ],
   "source": [
    "!pip install torchsummary"
   ]
  },
  {
   "cell_type": "code",
   "execution_count": 14,
   "metadata": {
    "_cell_guid": "b1076dfc-b9ad-4769-8c92-a6c4dae69d19",
    "_uuid": "8f2839f25d086af736a60e9eeb907d3b93b6e0e5",
    "execution": {
     "iopub.execute_input": "2024-05-04T17:58:28.445556Z",
     "iopub.status.busy": "2024-05-04T17:58:28.445168Z",
     "iopub.status.idle": "2024-05-04T17:58:28.452146Z",
     "shell.execute_reply": "2024-05-04T17:58:28.450931Z",
     "shell.execute_reply.started": "2024-05-04T17:58:28.445526Z"
    }
   },
   "outputs": [],
   "source": [
    "import pandas as pd\n",
    "import os\n",
    "import numpy as np\n",
    "import random\n",
    "import requests\n",
    "import matplotlib.pyplot as plt\n",
    "from tqdm.notebook import tqdm\n",
    "from PIL import Image\n",
    "from io import BytesIO\n",
    "from time import time, sleep\n",
    "import torch\n",
    "import torch.optim as optim\n",
    "import torch.nn as nn\n",
    "import torchvision.transforms as transforms\n",
    "from torchsummary import summary\n",
    "from torch.utils.data import Dataset, DataLoader\n",
    "from torchvision.io import read_image, ImageReadMode"
   ]
  },
  {
   "cell_type": "code",
   "execution_count": 3,
   "metadata": {
    "execution": {
     "iopub.execute_input": "2024-05-04T17:38:31.682239Z",
     "iopub.status.busy": "2024-05-04T17:38:31.681650Z",
     "iopub.status.idle": "2024-05-04T17:38:31.686772Z",
     "shell.execute_reply": "2024-05-04T17:38:31.685820Z",
     "shell.execute_reply.started": "2024-05-04T17:38:31.682204Z"
    }
   },
   "outputs": [],
   "source": [
    "device = torch.device('cuda')"
   ]
  },
  {
   "cell_type": "code",
   "execution_count": 4,
   "metadata": {
    "execution": {
     "iopub.execute_input": "2024-05-04T17:38:31.689860Z",
     "iopub.status.busy": "2024-05-04T17:38:31.689446Z",
     "iopub.status.idle": "2024-05-04T17:38:31.699235Z",
     "shell.execute_reply": "2024-05-04T17:38:31.698357Z",
     "shell.execute_reply.started": "2024-05-04T17:38:31.689826Z"
    }
   },
   "outputs": [],
   "source": [
    "def Conv_Block(channel_in, channel_out):\n",
    "    return nn.Sequential(\n",
    "        nn.Conv2d(channel_in, channel_out, kernel_size=3, padding=1),\n",
    "        nn.Conv2d(channel_out, channel_out, kernel_size=3, padding=1),\n",
    "        nn.MaxPool2d(2),\n",
    "        nn.ReLU(inplace=True),\n",
    "        nn.BatchNorm2d(channel_out),\n",
    "    )"
   ]
  },
  {
   "cell_type": "code",
   "execution_count": 5,
   "metadata": {
    "execution": {
     "iopub.execute_input": "2024-05-04T17:38:31.700768Z",
     "iopub.status.busy": "2024-05-04T17:38:31.700467Z",
     "iopub.status.idle": "2024-05-04T17:38:31.710876Z",
     "shell.execute_reply": "2024-05-04T17:38:31.709985Z",
     "shell.execute_reply.started": "2024-05-04T17:38:31.700744Z"
    }
   },
   "outputs": [],
   "source": [
    "###### Define the Siamese network architecture\n",
    "def SiameseNetwork():\n",
    "    return nn.Sequential(   #  3x768x768\n",
    "        nn.BatchNorm2d(3), # no tinc ganes de calcular mean i var\n",
    "        Conv_Block(3, 4),   #  4x384x384\n",
    "        Conv_Block(4, 8),   #  8x192x192\n",
    "        Conv_Block(8, 16),  # 16x 96x 96\n",
    "        Conv_Block(16, 32), # 32x 48x 48\n",
    "        Conv_Block(32, 32), # 32x 24x 24\n",
    "        Conv_Block(32, 64), # 64x 12x 12\n",
    "        Conv_Block(64, 64), # 64x  6x  6\n",
    "        nn.Flatten(),\n",
    "        nn.Linear(2304, 1000),\n",
    "        nn.Dropout(0.2),\n",
    "        nn.Linear(1000,256)\n",
    "    )"
   ]
  },
  {
   "cell_type": "code",
   "execution_count": 6,
   "metadata": {
    "execution": {
     "iopub.execute_input": "2024-05-04T17:38:31.712355Z",
     "iopub.status.busy": "2024-05-04T17:38:31.712010Z",
     "iopub.status.idle": "2024-05-04T17:38:31.722540Z",
     "shell.execute_reply": "2024-05-04T17:38:31.721625Z",
     "shell.execute_reply.started": "2024-05-04T17:38:31.712325Z"
    }
   },
   "outputs": [],
   "source": [
    "class ContrastiveLoss(nn.Module):\n",
    "    def __init__(self, margin=2.0):\n",
    "        super().__init__()\n",
    "        self.margin = margin\n",
    "        self.dist = nn.PairwiseDistance()\n",
    "    \n",
    "    def forward(self, output1, output2, target):\n",
    "        distance = self.dist(output1, output2)\n",
    "        loss = torch.mean((1 - target) * torch.pow(distance, 2) +\n",
    "                              (target) * torch.pow(torch.clamp(self.margin - distance, min=0.0), 2))\n",
    "        return loss"
   ]
  },
  {
   "cell_type": "code",
   "execution_count": 7,
   "metadata": {
    "execution": {
     "iopub.execute_input": "2024-05-04T17:38:31.723966Z",
     "iopub.status.busy": "2024-05-04T17:38:31.723695Z",
     "iopub.status.idle": "2024-05-04T17:38:32.032483Z",
     "shell.execute_reply": "2024-05-04T17:38:32.031501Z",
     "shell.execute_reply.started": "2024-05-04T17:38:31.723944Z"
    }
   },
   "outputs": [],
   "source": [
    "# img_dir = '/kaggle/input/hackupc/Imatges'\n",
    "img_dir = '/kaggle/input/masked10k/masked_images'\n",
    "img_paths = os.listdir(img_dir)"
   ]
  },
  {
   "cell_type": "code",
   "execution_count": 10,
   "metadata": {
    "execution": {
     "iopub.execute_input": "2024-05-04T17:38:32.782270Z",
     "iopub.status.busy": "2024-05-04T17:38:32.781968Z",
     "iopub.status.idle": "2024-05-04T17:38:32.788978Z",
     "shell.execute_reply": "2024-05-04T17:38:32.788052Z",
     "shell.execute_reply.started": "2024-05-04T17:38:32.782247Z"
    }
   },
   "outputs": [],
   "source": [
    "class CustomImageDataset(Dataset):\n",
    "    def __init__(self, img_paths, img_dir):\n",
    "        self.img_paths = img_paths\n",
    "        self.img_dir = img_dir\n",
    "\n",
    "    def __len__(self):\n",
    "        return len(self.img_paths)\n",
    "\n",
    "    def __getitem__(self, idx):\n",
    "        while True:\n",
    "            try:\n",
    "                return [transforms.ToTensor()(Image.open(img_dir + '/' + img_path).convert('RGB')) for img_path in self.img_paths[idx]]\n",
    "            except:\n",
    "                idx = random.randint(0, len(self.img_paths)-1)"
   ]
  },
  {
   "cell_type": "code",
   "execution_count": 11,
   "metadata": {
    "execution": {
     "iopub.execute_input": "2024-05-04T17:38:32.790309Z",
     "iopub.status.busy": "2024-05-04T17:38:32.790027Z",
     "iopub.status.idle": "2024-05-04T17:38:32.827027Z",
     "shell.execute_reply": "2024-05-04T17:38:32.826154Z",
     "shell.execute_reply.started": "2024-05-04T17:38:32.790287Z"
    }
   },
   "outputs": [
    {
     "data": {
      "text/plain": [
       "(7739, 7050)"
      ]
     },
     "execution_count": 11,
     "metadata": {},
     "output_type": "execute_result"
    }
   ],
   "source": [
    "grouped_paths = {}\n",
    "for path in img_paths:\n",
    "    group = int(path.split('_')[1])\n",
    "    if group not in grouped_paths:\n",
    "        grouped_paths[group] = []\n",
    "    grouped_paths[group].append(path)\n",
    "\n",
    "all_groups = [val for val in grouped_paths.values()]\n",
    "big_groups = [val for val in grouped_paths.values() if len(val) > 1]\n",
    "\n",
    "len(all_groups), len(big_groups)"
   ]
  },
  {
   "cell_type": "code",
   "execution_count": 12,
   "metadata": {
    "execution": {
     "iopub.execute_input": "2024-05-04T17:38:32.828408Z",
     "iopub.status.busy": "2024-05-04T17:38:32.828158Z",
     "iopub.status.idle": "2024-05-04T17:38:33.755642Z",
     "shell.execute_reply": "2024-05-04T17:38:33.754529Z",
     "shell.execute_reply.started": "2024-05-04T17:38:32.828387Z"
    }
   },
   "outputs": [
    {
     "name": "stdout",
     "output_type": "stream",
     "text": [
      "Sequential(\n",
      "  (0): BatchNorm2d(3, eps=1e-05, momentum=0.1, affine=True, track_running_stats=True)\n",
      "  (1): Sequential(\n",
      "    (0): Conv2d(3, 4, kernel_size=(3, 3), stride=(1, 1), padding=(1, 1))\n",
      "    (1): Conv2d(4, 4, kernel_size=(3, 3), stride=(1, 1), padding=(1, 1))\n",
      "    (2): MaxPool2d(kernel_size=2, stride=2, padding=0, dilation=1, ceil_mode=False)\n",
      "    (3): ReLU(inplace=True)\n",
      "    (4): BatchNorm2d(4, eps=1e-05, momentum=0.1, affine=True, track_running_stats=True)\n",
      "  )\n",
      "  (2): Sequential(\n",
      "    (0): Conv2d(4, 8, kernel_size=(3, 3), stride=(1, 1), padding=(1, 1))\n",
      "    (1): Conv2d(8, 8, kernel_size=(3, 3), stride=(1, 1), padding=(1, 1))\n",
      "    (2): MaxPool2d(kernel_size=2, stride=2, padding=0, dilation=1, ceil_mode=False)\n",
      "    (3): ReLU(inplace=True)\n",
      "    (4): BatchNorm2d(8, eps=1e-05, momentum=0.1, affine=True, track_running_stats=True)\n",
      "  )\n",
      "  (3): Sequential(\n",
      "    (0): Conv2d(8, 16, kernel_size=(3, 3), stride=(1, 1), padding=(1, 1))\n",
      "    (1): Conv2d(16, 16, kernel_size=(3, 3), stride=(1, 1), padding=(1, 1))\n",
      "    (2): MaxPool2d(kernel_size=2, stride=2, padding=0, dilation=1, ceil_mode=False)\n",
      "    (3): ReLU(inplace=True)\n",
      "    (4): BatchNorm2d(16, eps=1e-05, momentum=0.1, affine=True, track_running_stats=True)\n",
      "  )\n",
      "  (4): Sequential(\n",
      "    (0): Conv2d(16, 32, kernel_size=(3, 3), stride=(1, 1), padding=(1, 1))\n",
      "    (1): Conv2d(32, 32, kernel_size=(3, 3), stride=(1, 1), padding=(1, 1))\n",
      "    (2): MaxPool2d(kernel_size=2, stride=2, padding=0, dilation=1, ceil_mode=False)\n",
      "    (3): ReLU(inplace=True)\n",
      "    (4): BatchNorm2d(32, eps=1e-05, momentum=0.1, affine=True, track_running_stats=True)\n",
      "  )\n",
      "  (5): Sequential(\n",
      "    (0): Conv2d(32, 32, kernel_size=(3, 3), stride=(1, 1), padding=(1, 1))\n",
      "    (1): Conv2d(32, 32, kernel_size=(3, 3), stride=(1, 1), padding=(1, 1))\n",
      "    (2): MaxPool2d(kernel_size=2, stride=2, padding=0, dilation=1, ceil_mode=False)\n",
      "    (3): ReLU(inplace=True)\n",
      "    (4): BatchNorm2d(32, eps=1e-05, momentum=0.1, affine=True, track_running_stats=True)\n",
      "  )\n",
      "  (6): Sequential(\n",
      "    (0): Conv2d(32, 64, kernel_size=(3, 3), stride=(1, 1), padding=(1, 1))\n",
      "    (1): Conv2d(64, 64, kernel_size=(3, 3), stride=(1, 1), padding=(1, 1))\n",
      "    (2): MaxPool2d(kernel_size=2, stride=2, padding=0, dilation=1, ceil_mode=False)\n",
      "    (3): ReLU(inplace=True)\n",
      "    (4): BatchNorm2d(64, eps=1e-05, momentum=0.1, affine=True, track_running_stats=True)\n",
      "  )\n",
      "  (7): Sequential(\n",
      "    (0): Conv2d(64, 64, kernel_size=(3, 3), stride=(1, 1), padding=(1, 1))\n",
      "    (1): Conv2d(64, 64, kernel_size=(3, 3), stride=(1, 1), padding=(1, 1))\n",
      "    (2): MaxPool2d(kernel_size=2, stride=2, padding=0, dilation=1, ceil_mode=False)\n",
      "    (3): ReLU(inplace=True)\n",
      "    (4): BatchNorm2d(64, eps=1e-05, momentum=0.1, affine=True, track_running_stats=True)\n",
      "  )\n",
      "  (8): Flatten(start_dim=1, end_dim=-1)\n",
      "  (9): Linear(in_features=2304, out_features=1000, bias=True)\n",
      "  (10): Dropout(p=0.2, inplace=False)\n",
      "  (11): Linear(in_features=1000, out_features=256, bias=True)\n",
      ")\n",
      "----------------------------------------------------------------\n",
      "        Layer (type)               Output Shape         Param #\n",
      "================================================================\n",
      "       BatchNorm2d-1          [-1, 3, 768, 768]               6\n",
      "            Conv2d-2          [-1, 4, 768, 768]             112\n",
      "            Conv2d-3          [-1, 4, 768, 768]             148\n",
      "         MaxPool2d-4          [-1, 4, 384, 384]               0\n",
      "              ReLU-5          [-1, 4, 384, 384]               0\n",
      "       BatchNorm2d-6          [-1, 4, 384, 384]               8\n",
      "            Conv2d-7          [-1, 8, 384, 384]             296\n",
      "            Conv2d-8          [-1, 8, 384, 384]             584\n",
      "         MaxPool2d-9          [-1, 8, 192, 192]               0\n",
      "             ReLU-10          [-1, 8, 192, 192]               0\n",
      "      BatchNorm2d-11          [-1, 8, 192, 192]              16\n",
      "           Conv2d-12         [-1, 16, 192, 192]           1,168\n",
      "           Conv2d-13         [-1, 16, 192, 192]           2,320\n",
      "        MaxPool2d-14           [-1, 16, 96, 96]               0\n",
      "             ReLU-15           [-1, 16, 96, 96]               0\n",
      "      BatchNorm2d-16           [-1, 16, 96, 96]              32\n",
      "           Conv2d-17           [-1, 32, 96, 96]           4,640\n",
      "           Conv2d-18           [-1, 32, 96, 96]           9,248\n",
      "        MaxPool2d-19           [-1, 32, 48, 48]               0\n",
      "             ReLU-20           [-1, 32, 48, 48]               0\n",
      "      BatchNorm2d-21           [-1, 32, 48, 48]              64\n",
      "           Conv2d-22           [-1, 32, 48, 48]           9,248\n",
      "           Conv2d-23           [-1, 32, 48, 48]           9,248\n",
      "        MaxPool2d-24           [-1, 32, 24, 24]               0\n",
      "             ReLU-25           [-1, 32, 24, 24]               0\n",
      "      BatchNorm2d-26           [-1, 32, 24, 24]              64\n",
      "           Conv2d-27           [-1, 64, 24, 24]          18,496\n",
      "           Conv2d-28           [-1, 64, 24, 24]          36,928\n",
      "        MaxPool2d-29           [-1, 64, 12, 12]               0\n",
      "             ReLU-30           [-1, 64, 12, 12]               0\n",
      "      BatchNorm2d-31           [-1, 64, 12, 12]             128\n",
      "           Conv2d-32           [-1, 64, 12, 12]          36,928\n",
      "           Conv2d-33           [-1, 64, 12, 12]          36,928\n",
      "        MaxPool2d-34             [-1, 64, 6, 6]               0\n",
      "             ReLU-35             [-1, 64, 6, 6]               0\n",
      "      BatchNorm2d-36             [-1, 64, 6, 6]             128\n",
      "          Flatten-37                 [-1, 2304]               0\n",
      "           Linear-38                 [-1, 1000]       2,305,000\n",
      "          Dropout-39                 [-1, 1000]               0\n",
      "           Linear-40                  [-1, 256]         256,256\n",
      "================================================================\n",
      "Total params: 2,727,994\n",
      "Trainable params: 2,727,994\n",
      "Non-trainable params: 0\n",
      "----------------------------------------------------------------\n",
      "Input size (MB): 6.75\n",
      "Forward/backward pass size (MB): 108.86\n",
      "Params size (MB): 10.41\n",
      "Estimated Total Size (MB): 126.02\n",
      "----------------------------------------------------------------\n"
     ]
    }
   ],
   "source": [
    "siamese_net = SiameseNetwork().to(device)\n",
    "\n",
    "print(siamese_net)\n",
    "summary(siamese_net, (3, 768, 768))"
   ]
  },
  {
   "cell_type": "code",
   "execution_count": null,
   "metadata": {
    "execution": {
     "iopub.execute_input": "2024-05-04T18:20:24.089879Z",
     "iopub.status.busy": "2024-05-04T18:20:24.089166Z"
    }
   },
   "outputs": [
    {
     "data": {
      "application/vnd.jupyter.widget-view+json": {
       "model_id": "cd08d74fceca45c6864bcf47071796f8",
       "version_major": 2,
       "version_minor": 0
      },
      "text/plain": [
       "  0%|          | 0/441 [00:00<?, ?it/s]"
      ]
     },
     "metadata": {},
     "output_type": "display_data"
    }
   ],
   "source": [
    "criterion = ContrastiveLoss()\n",
    "optimizer = optim.Adam(siamese_net.parameters(), lr=0.0004)\n",
    "batch_size = 16\n",
    "\n",
    "siamese_net.train()\n",
    "num_epochs = 2\n",
    "# total_losses = []\n",
    "for epoch in range(num_epochs):\n",
    "    \n",
    "    random.shuffle(all_groups)\n",
    "    curr_groups = [random.sample(big_groups[i], k=2) + random.sample(all_groups[i], k=1) for i in range(len(big_groups))]\n",
    "    \n",
    "    dataset = CustomImageDataset(curr_groups, img_dir)\n",
    "    dataloader = DataLoader(dataset, batch_size=batch_size, shuffle=True)\n",
    "\n",
    "    total_loss, last_loss = 0, 0\n",
    "    idx = 0\n",
    "    for img1, img2, img3 in tqdm(dataloader):\n",
    "        idx += 1\n",
    "\n",
    "        optimizer.zero_grad()\n",
    "        img1, img2, img3 = img1.to(device), img2.to(device), img3.to(device)\n",
    "        emb1, emb2, emb3 = siamese_net(img1), siamese_net(img2), siamese_net(img3)\n",
    "        loss = criterion(emb1, emb2, 0) + criterion(emb1, emb3, 1)\n",
    "        loss.backward()\n",
    "        optimizer.step()\n",
    "        total_loss += loss.item()\n",
    "        \n",
    "        if idx%100 == 0:\n",
    "            print(\"loss since last:\", (total_loss-last_loss)/100)\n",
    "            last_loss = total_loss\n",
    "            \n",
    "            dist = nn.PairwiseDistance()\n",
    "            print(\"1-2 dist:\", dist(emb1[0], emb2[0]).item())\n",
    "            print(\"1-3 dist:\", dist(emb1[0], emb3[0]).item())\n",
    "            display(transforms.ToPILImage()(img1[0]))\n",
    "            display(transforms.ToPILImage()(img2[0]))\n",
    "            display(transforms.ToPILImage()(img3[0]))\n",
    "        \n",
    "    total_loss /= len(dataloader)\n",
    "    print(f\"Epoch {epoch+1}/{num_epochs}, Loss: {total_loss}\")\n",
    "    total_losses.append(total_loss)\n",
    "    plt.plot(total_losses)\n",
    "    plt.show()"
   ]
  },
  {
   "cell_type": "code",
   "execution_count": 16,
   "metadata": {
    "execution": {
     "iopub.execute_input": "2024-05-04T18:11:27.953373Z",
     "iopub.status.busy": "2024-05-04T18:11:27.952960Z",
     "iopub.status.idle": "2024-05-04T18:15:00.328405Z",
     "shell.execute_reply": "2024-05-04T18:15:00.327252Z",
     "shell.execute_reply.started": "2024-05-04T18:11:27.953336Z"
    }
   },
   "outputs": [],
   "source": [
    "link = '/kaggle/input/links-inditex/inditextech_hackupc_challenge_images.csv'\n",
    "all_links = pd.read_csv(link).values\n",
    "\n",
    "# siamese_net = SiameseNetwork().to(device)\n",
    "\n",
    "siamese_net.eval()\n",
    "embeds = {}\n",
    "for idx, vec in enumerate(all_groups):\n",
    "#     if idx == 200:\n",
    "#         break\n",
    "    name = vec[0]\n",
    "    batch = torch.concat([read_image(img_dir + '/' + img_path).unsqueeze(0)/255 for img_path in vec], dim=0).to(device)\n",
    "    embedding = siamese_net(batch).mean(dim=0).cpu().detach().to_sparse().values()\n",
    "    embeds[name] = embedding\n",
    "\n",
    "df = pd.DataFrame(embeds).transpose().rename(columns = {i : f'embedding_{i}' for i in range(256)}).reset_index()\n",
    "df['link_1'] = df['index'].map(lambda x: all_links[int(x.split('_')[1])][0])\n",
    "df['link_2'] = df['index'].map(lambda x: all_links[int(x.split('_')[1])][1])\n",
    "df['link_3'] = df['index'].map(lambda x: all_links[int(x.split('_')[1])][2])\n",
    "df = df.drop(columns='index').rename(columns={0:'embedding'})\n",
    "df.to_csv('temp_embed.csv')"
   ]
  }
 ],
 "metadata": {
  "kaggle": {
   "accelerator": "gpu",
   "dataSources": [
    {
     "datasetId": 4936026,
     "sourceId": 8310919,
     "sourceType": "datasetVersion"
    },
    {
     "datasetId": 4937138,
     "sourceId": 8311003,
     "sourceType": "datasetVersion"
    },
    {
     "datasetId": 4938165,
     "sourceId": 8317901,
     "sourceType": "datasetVersion"
    },
    {
     "datasetId": 4939598,
     "sourceId": 8315677,
     "sourceType": "datasetVersion"
    }
   ],
   "dockerImageVersionId": 30699,
   "isGpuEnabled": true,
   "isInternetEnabled": true,
   "language": "python",
   "sourceType": "notebook"
  },
  "kernelspec": {
   "display_name": "Python 3 (ipykernel)",
   "language": "python",
   "name": "python3"
  },
  "language_info": {
   "codemirror_mode": {
    "name": "ipython",
    "version": 3
   },
   "file_extension": ".py",
   "mimetype": "text/x-python",
   "name": "python",
   "nbconvert_exporter": "python",
   "pygments_lexer": "ipython3",
   "version": "3.10.12"
  }
 },
 "nbformat": 4,
 "nbformat_minor": 4
}
